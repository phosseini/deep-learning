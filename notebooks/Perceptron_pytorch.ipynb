{
 "cells": [
  {
   "cell_type": "code",
   "execution_count": 1,
   "metadata": {},
   "outputs": [],
   "source": [
    "# codes/examples in this notebook are from the following post:\n",
    "# https://www.glennklockwood.com/data-intensive/analysis/perceptron.html\n",
    "\n",
    "import torch\n",
    "\n",
    "import time\n",
    "import numpy as np\n",
    "import pandas as pd\n",
    "import matplotlib.pyplot\n",
    "import matplotlib.pylab as plt"
   ]
  },
  {
   "cell_type": "code",
   "execution_count": 2,
   "metadata": {},
   "outputs": [
    {
     "name": "stdout",
     "output_type": "stream",
     "text": [
      "               input 1  input 2  true output\n",
      "observation #                               \n",
      "0                    0        0            0\n",
      "1                    0        1            1\n",
      "2                    1        0            1\n",
      "3                    1        1            1\n"
     ]
    }
   ],
   "source": [
    "data = [[0, 0],\n",
    "        [0, 1],\n",
    "        [1, 0],\n",
    "        [1, 1]]\n",
    "\n",
    "inputs = pd.DataFrame(data, columns=[\"input 1\", \"input 2\"])\n",
    "inputs.index.name = \"observation #\"\n",
    "\n",
    "ground_truth = pd.Series([0, 1, 1, 1], name=\"true output\", index=inputs.index)\n",
    "\n",
    "print(pd.concat((inputs, ground_truth), axis=1))"
   ]
  },
  {
   "cell_type": "code",
   "execution_count": 3,
   "metadata": {},
   "outputs": [],
   "source": [
    "model = torch.nn.Sequential(\n",
    "    torch.nn.Linear(inputs.shape[1], 1),\n",
    "    torch.nn.Sigmoid()\n",
    ")"
   ]
  },
  {
   "cell_type": "code",
   "execution_count": 4,
   "metadata": {},
   "outputs": [
    {
     "data": {
      "text/plain": [
       "Sequential(\n",
       "  (0): Linear(in_features=2, out_features=1, bias=True)\n",
       "  (1): Sigmoid()\n",
       ")"
      ]
     },
     "execution_count": 4,
     "metadata": {},
     "output_type": "execute_result"
    }
   ],
   "source": [
    "model"
   ]
  },
  {
   "cell_type": "code",
   "execution_count": 5,
   "metadata": {},
   "outputs": [
    {
     "name": "stdout",
     "output_type": "stream",
     "text": [
      "Starting weights: tensor([0.4170, 0.7203], dtype=torch.float64, requires_grad=True)\n",
      "Starting bias: tensor([0.0001], dtype=torch.float64, requires_grad=True)\n"
     ]
    }
   ],
   "source": [
    "np.random.seed(seed=1) # use same initial seed as before\n",
    "with torch.no_grad():\n",
    "    # torch.rand() is faster, but we use numpy to re-use the same random starting weights/biases\n",
    "    model[0].weight = torch.nn.Parameter(torch.from_numpy(np.random.rand(1, inputs.shape[1])))\n",
    "    print(\"Starting weights: {}\".format(model[0].weight.flatten()))\n",
    "    model[0].bias = torch.nn.Parameter(torch.from_numpy(np.random.rand(1, 1)))\n",
    "    print(\"Starting bias: {}\".format(model[0].bias.flatten()))"
   ]
  },
  {
   "cell_type": "code",
   "execution_count": 6,
   "metadata": {},
   "outputs": [
    {
     "data": {
      "image/png": "[encoded data removed]",
      "text/plain": [
       "<Figure size 432x288 with 1 Axes>"
      ]
     },
     "metadata": {
      "needs_background": "light"
     },
     "output_type": "display_data"
    }
   ],
   "source": [
    "def sigmoid(x):\n",
    "    \"\"\"\n",
    "    Activation function\n",
    "    \"\"\"\n",
    "    return 1.0 / (1.0 + np.exp(-x))\n",
    "\n",
    "x = np.arange(-10, 10, 0.1)\n",
    "matplotlib.pyplot.plot(x, torch.nn.Sigmoid()(torch.from_numpy(x)).detach().numpy(), label=\"PyTorch Sigmoid\")\n",
    "matplotlib.pyplot.scatter(x[::10], sigmoid(x[::10]), color='C1', label=\"our Sigmoid()\")\n",
    "matplotlib.pyplot.grid()\n",
    "matplotlib.pyplot.legend()\n",
    "matplotlib.pyplot.title(\"torch.nn.Sigmoid\")\n",
    "pass"
   ]
  },
  {
   "cell_type": "code",
   "execution_count": 7,
   "metadata": {},
   "outputs": [
    {
     "name": "stdout",
     "output_type": "stream",
     "text": [
      "\n",
      "Setting learning rate to 0.05 based on prior experience.\n",
      "error at step     0:   1.47e+00\n",
      "error at step  1000:   2.33e-01\n",
      "error at step  2000:   1.09e-01\n",
      "error at step  3000:   6.98e-02\n",
      "error at step  4000:   5.10e-02\n",
      "error at step  5000:   4.00e-02\n",
      "error at step  6000:   3.29e-02\n",
      "error at step  7000:   2.79e-02\n",
      "error at step  8000:   2.43e-02\n",
      "error at step  9000:   2.14e-02\n",
      "Final weights: [9.98578506 9.98589032]\n",
      "Final bias:    -4.52752860008788\n"
     ]
    },
    {
     "data": {
      "image/png": "[encoded data removed]",
      "text/plain": [
       "<Figure size 432x288 with 1 Axes>"
      ]
     },
     "metadata": {
      "needs_background": "light"
     },
     "output_type": "display_data"
    }
   ],
   "source": [
    "learning_rate = 0.05\n",
    "print(\"\\nSetting learning rate to {} based on prior experience.\".format(learning_rate))\n",
    "\n",
    "NUM_ITERATIONS = 10000\n",
    "\n",
    "# pytorch is more sensitive about types, so we explicitly cast our integer input arrays as float64\n",
    "inputs_tensor = torch.from_numpy(inputs.to_numpy(dtype=np.float64))\n",
    "truth_tensor = torch.from_numpy(ground_truth.to_numpy(dtype=np.float64).reshape(-1, 1))\n",
    "\n",
    "errors = dict()\n",
    "\n",
    "# use PyTorch's implementation of our loss = abs(f0 - f)\n",
    "loss = torch.nn.L1Loss(reduction='sum')\n",
    "\n",
    "# use PyTorch's implementation of gradient descent\n",
    "optimizer = torch.optim.SGD(model.parameters(), lr=learning_rate)\n",
    "\n",
    "model.train()\n",
    "x = inputs_tensor\n",
    "\n",
    "for i in range(NUM_ITERATIONS):\n",
    "    f = model(x)\n",
    "\n",
    "    error = loss(f, truth_tensor)\n",
    "\n",
    "    # erase memory of gradients at previous step\n",
    "    optimizer.zero_grad()\n",
    "\n",
    "    # compute gradient of loss function\n",
    "    error.backward()\n",
    "\n",
    "    # use computed gradient to update weights and bias\n",
    "    optimizer.step()\n",
    "\n",
    "    if i % (NUM_ITERATIONS / 10) == 0:\n",
    "        print(\"error at step {:5d}: {:10.2e}\".format(i, error.sum()))\n",
    "        errors[i] = error.sum()\n",
    "\n",
    "print(\"Final weights: {}\".format(next(model.parameters()).detach().numpy().flatten()))\n",
    "print(\"Final bias:    {}\".format(list(model.parameters())[-1].item()))\n",
    "\n",
    "lists = sorted(errors.items())\n",
    "x_axis, y_axis = zip(*lists)\n",
    "plt.plot(x_axis, y_axis)\n",
    "plt.title(\"Training error by iteration\")\n",
    "plt.show()"
   ]
  },
  {
   "cell_type": "code",
   "execution_count": 8,
   "metadata": {},
   "outputs": [
    {
     "name": "stdout",
     "output_type": "stream",
     "text": [
      "               input 1  input 2  true output  predicted output\n",
      "observation #                                                 \n",
      "0                    0        0            0          0.010692\n",
      "1                    0        1            1          0.995758\n",
      "2                    1        0            1          0.995757\n",
      "3                    1        1            1          1.000000\n"
     ]
    }
   ],
   "source": [
    "model.eval()\n",
    "\n",
    "predicted_output = model(inputs_tensor).detach().numpy()\n",
    "predicted_output = pd.DataFrame(\n",
    "    predicted_output,\n",
    "    columns=[\"predicted output\"],\n",
    "    index=inputs.index)\n",
    "\n",
    "print(pd.concat((\n",
    "    inputs,\n",
    "    ground_truth,\n",
    "    predicted_output),\n",
    "    axis=1))"
   ]
  },
  {
   "cell_type": "code",
   "execution_count": null,
   "metadata": {},
   "outputs": [],
   "source": []
  }
 ],
 "metadata": {
  "kernelspec": {
   "display_name": "pytorch-env",
   "language": "python",
   "name": "pytorch-env"
  },
  "language_info": {
   "codemirror_mode": {
    "name": "ipython",
    "version": 3
   },
   "file_extension": ".py",
   "mimetype": "text/x-python",
   "name": "python",
   "nbconvert_exporter": "python",
   "pygments_lexer": "ipython3",
   "version": "3.6.13"
  }
 },
 "nbformat": 4,
 "nbformat_minor": 4
}
