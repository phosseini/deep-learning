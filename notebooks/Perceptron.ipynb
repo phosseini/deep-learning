{
 "cells": [
  {
   "cell_type": "code",
   "execution_count": 1,
   "metadata": {},
   "outputs": [],
   "source": [
    "# codes/examples in this notebook are from the following post:\n",
    "# https://www.glennklockwood.com/data-intensive/analysis/perceptron.html\n",
    "\n",
    "import time\n",
    "import numpy as np\n",
    "import pandas as pd\n",
    "import matplotlib.pyplot\n",
    "import matplotlib.pylab as plt"
   ]
  },
  {
   "cell_type": "code",
   "execution_count": 2,
   "metadata": {},
   "outputs": [
    {
     "name": "stdout",
     "output_type": "stream",
     "text": [
      "               input 1  input 2  true output\n",
      "observation #                               \n",
      "0                    0        0            0\n",
      "1                    0        1            1\n",
      "2                    1        0            1\n",
      "3                    1        1            1\n"
     ]
    }
   ],
   "source": [
    "data = [[0, 0],\n",
    "        [0, 1],\n",
    "        [1, 0],\n",
    "        [1, 1]]\n",
    "\n",
    "inputs = pd.DataFrame(data, columns=[\"input 1\", \"input 2\"])\n",
    "inputs.index.name = \"observation #\"\n",
    "\n",
    "ground_truth = pd.Series([0, 1, 1, 1], name=\"true output\", index=inputs.index)\n",
    "\n",
    "print(pd.concat((inputs, ground_truth), axis=1))"
   ]
  },
  {
   "cell_type": "code",
   "execution_count": 3,
   "metadata": {},
   "outputs": [
    {
     "data": {
      "image/png": "[encoded data removed]",
      "text/plain": [
       "<Figure size 432x288 with 1 Axes>"
      ]
     },
     "metadata": {
      "needs_background": "light"
     },
     "output_type": "display_data"
    }
   ],
   "source": [
    "def linear(x, weights, bias):\n",
    "    \"\"\"\n",
    "    Linear model function\n",
    "    y(x) = x.w + b\n",
    "    \"\"\"\n",
    "    return np.dot(x, weights) + bias\n",
    "\n",
    "def sigmoid(x):\n",
    "    \"\"\"\n",
    "    Activation function\n",
    "    \"\"\"\n",
    "    return 1.0 / (1.0 + np.exp(-x))\n",
    "\n",
    "matplotlib.pyplot.plot(np.arange(-10, 10, 0.1), sigmoid(np.arange(-10, 10, 0.1)), label=\"sigmoid\")\n",
    "matplotlib.pyplot.grid()\n",
    "matplotlib.pyplot.title(\"Sigmoid activation function\")\n",
    "pass"
   ]
  },
  {
   "cell_type": "code",
   "execution_count": 4,
   "metadata": {},
   "outputs": [
    {
     "name": "stdout",
     "output_type": "stream",
     "text": [
      "           weight\n",
      "input 1  0.417022\n",
      "input 2  0.720324\n",
      "\n",
      "Setting starting bias to a random value: 0.000114\n",
      "\n",
      "Setting learning rate to 0.05 based on prior experience.\n"
     ]
    }
   ],
   "source": [
    "# initialization\n",
    "np.random.seed(seed=1)\n",
    "weights = np.random.rand(inputs.shape[1], 1)\n",
    "print(pd.DataFrame(weights, index=inputs.columns, columns=[\"weight\"]))\n",
    "\n",
    "bias = np.random.rand(1)[0]\n",
    "print(\"\\nSetting starting bias to a random value: {:4f}\".format(bias))\n",
    "\n",
    "learning_rate = 0.05\n",
    "print(\"\\nSetting learning rate to {} based on prior experience.\".format(learning_rate))\n",
    "\n",
    "NUM_ITERATIONS = 10000"
   ]
  },
  {
   "cell_type": "code",
   "execution_count": 5,
   "metadata": {},
   "outputs": [
    {
     "name": "stdout",
     "output_type": "stream",
     "text": [
      "error at step     0:   1.47e+00\n",
      "error at step  1000:   2.33e-01\n",
      "error at step  2000:   1.09e-01\n",
      "error at step  3000:   6.98e-02\n",
      "error at step  4000:   5.10e-02\n",
      "error at step  5000:   4.00e-02\n",
      "error at step  6000:   3.29e-02\n",
      "error at step  7000:   2.79e-02\n",
      "error at step  8000:   2.43e-02\n",
      "error at step  9000:   2.14e-02\n",
      "\n",
      "Final weights: [9.98578506 9.98589032]\n",
      "Final bias:    -4.52752860008788\n"
     ]
    },
    {
     "data": {
      "image/png": "[encoded data removed]",
      "text/plain": [
       "<Figure size 432x288 with 1 Axes>"
      ]
     },
     "metadata": {
      "needs_background": "light"
     },
     "output_type": "display_data"
    }
   ],
   "source": [
    "# convert dataframe bits into arrays for processing\n",
    "inputs_array = inputs.to_numpy()\n",
    "truth_array = ground_truth.to_numpy().reshape(-1, 1)\n",
    "\n",
    "errors = dict()\n",
    "\n",
    "x = inputs_array\n",
    "\n",
    "for i in range(NUM_ITERATIONS):\n",
    "    y = linear(x, weights, bias)\n",
    "    f = sigmoid(y)\n",
    "\n",
    "    error = np.abs(f - truth_array)\n",
    "\n",
    "    # calculate out partial derivatives for each input\n",
    "    dE_df = error/(f - truth_array)\n",
    "    df_dy = sigmoid(y) * (1.0 - sigmoid(y))\n",
    "    dy_dw = x\n",
    "    dE_dy = dE_df * df_dy\n",
    "    dE_dw = np.dot(dy_dw.T, dE_dy)  # dy_dw = x\n",
    "\n",
    "    # update weights and biases - the error is the sum of error over each input\n",
    "    weights -= learning_rate * dE_dw\n",
    "    bias -= learning_rate * dE_dy.sum()\n",
    "\n",
    "    if i % (NUM_ITERATIONS / 10) == 0:\n",
    "        print(\"error at step {:5d}: {:10.2e}\".format(i, error.sum()))\n",
    "        errors[i] = error.sum()\n",
    "\n",
    "print(\"\\nFinal weights: {}\".format(weights.flatten()))\n",
    "print(\"Final bias:    {}\".format(bias))\n",
    "\n",
    "lists = sorted(errors.items())\n",
    "x_axis, y_axis = zip(*lists)\n",
    "plt.plot(x_axis, y_axis)\n",
    "plt.title(\"Training error by iteration\")\n",
    "plt.show()"
   ]
  },
  {
   "cell_type": "code",
   "execution_count": 6,
   "metadata": {},
   "outputs": [
    {
     "name": "stdout",
     "output_type": "stream",
     "text": [
      "               input 1  input 2  true output  predicted output\n",
      "observation #                                                 \n",
      "0                    0        0            0          0.010692\n",
      "1                    0        1            1          0.995758\n",
      "2                    1        0            1          0.995757\n",
      "3                    1        1            1          1.000000\n"
     ]
    }
   ],
   "source": [
    "predicted_output = sigmoid(np.dot(x, weights) + bias)\n",
    "predicted_output = pd.DataFrame(\n",
    "    predicted_output,\n",
    "    columns=[\"predicted output\"],\n",
    "    index=inputs.index)\n",
    "\n",
    "print(pd.concat((\n",
    "    inputs,\n",
    "    ground_truth,\n",
    "    predicted_output),\n",
    "    axis=1))"
   ]
  },
  {
   "cell_type": "code",
   "execution_count": null,
   "metadata": {},
   "outputs": [],
   "source": []
  }
 ],
 "metadata": {
  "kernelspec": {
   "display_name": "pytorch-env",
   "language": "python",
   "name": "pytorch-env"
  },
  "language_info": {
   "codemirror_mode": {
    "name": "ipython",
    "version": 3
   },
   "file_extension": ".py",
   "mimetype": "text/x-python",
   "name": "python",
   "nbconvert_exporter": "python",
   "pygments_lexer": "ipython3",
   "version": "3.6.13"
  }
 },
 "nbformat": 4,
 "nbformat_minor": 4
}
